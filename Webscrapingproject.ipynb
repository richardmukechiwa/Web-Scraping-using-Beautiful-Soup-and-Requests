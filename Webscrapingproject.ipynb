{
 "cells": [
  {
   "cell_type": "markdown",
   "id": "60658e15-e17a-4590-a50e-6ab8d2374e89",
   "metadata": {},
   "source": [
    "## WEB SCRAPING "
   ]
  },
  {
   "cell_type": "markdown",
   "id": "37d63dff-b917-4aa3-9e53-815f74a5e099",
   "metadata": {},
   "source": [
    "In this project  I am going to do  web scraping  using  BeautifulSoup, requests libraries and Python code to extract data from the Fake Python jobs website then I will perform some data cleaning on the dataframe  to prepare the data for analysis."
   ]
  },
  {
   "cell_type": "markdown",
   "id": "17283198-a326-4066-9daa-ebe31b77d623",
   "metadata": {},
   "source": [
    "## Importing libraries "
   ]
  },
  {
   "cell_type": "code",
   "execution_count": 94,
   "id": "9351ff2c-aeba-4d90-a51b-fb7825f810ce",
   "metadata": {},
   "outputs": [],
   "source": [
    "from bs4 import BeautifulSoup\n",
    "import requests \n",
    "import pandas as pd "
   ]
  },
  {
   "cell_type": "code",
   "execution_count": 95,
   "id": "745e0df1-eebd-4090-8bff-a0934f27b841",
   "metadata": {},
   "outputs": [],
   "source": [
    "url = \"https://realpython.github.io/fake-jobs/\""
   ]
  },
  {
   "cell_type": "code",
   "execution_count": 96,
   "id": "d2ecdb8d-ac72-441b-a186-b3d62a87c3fe",
   "metadata": {},
   "outputs": [
    {
     "data": {
      "text/html": [
       "<div>\n",
       "<style scoped>\n",
       "    .dataframe tbody tr th:only-of-type {\n",
       "        vertical-align: middle;\n",
       "    }\n",
       "\n",
       "    .dataframe tbody tr th {\n",
       "        vertical-align: top;\n",
       "    }\n",
       "\n",
       "    .dataframe thead th {\n",
       "        text-align: right;\n",
       "    }\n",
       "</style>\n",
       "<table border=\"1\" class=\"dataframe\">\n",
       "  <thead>\n",
       "    <tr style=\"text-align: right;\">\n",
       "      <th></th>\n",
       "      <th>Job Title</th>\n",
       "      <th>Company</th>\n",
       "      <th>Location</th>\n",
       "      <th>Date</th>\n",
       "    </tr>\n",
       "  </thead>\n",
       "  <tbody>\n",
       "    <tr>\n",
       "      <th>0</th>\n",
       "      <td>Senior Python Developer</td>\n",
       "      <td>Payne, Roberts and Davis</td>\n",
       "      <td>\\n        Stewartbury, AA\\n</td>\n",
       "      <td>2021-04-08</td>\n",
       "    </tr>\n",
       "    <tr>\n",
       "      <th>1</th>\n",
       "      <td>Energy engineer</td>\n",
       "      <td>Vasquez-Davidson</td>\n",
       "      <td>\\n        Christopherville, AA\\n</td>\n",
       "      <td>2021-04-08</td>\n",
       "    </tr>\n",
       "    <tr>\n",
       "      <th>2</th>\n",
       "      <td>Legal executive</td>\n",
       "      <td>Jackson, Chambers and Levy</td>\n",
       "      <td>\\n        Port Ericaburgh, AA\\n</td>\n",
       "      <td>2021-04-08</td>\n",
       "    </tr>\n",
       "    <tr>\n",
       "      <th>3</th>\n",
       "      <td>Fitness centre manager</td>\n",
       "      <td>Savage-Bradley</td>\n",
       "      <td>\\n        East Seanview, AP\\n</td>\n",
       "      <td>2021-04-08</td>\n",
       "    </tr>\n",
       "    <tr>\n",
       "      <th>4</th>\n",
       "      <td>Product manager</td>\n",
       "      <td>Ramirez Inc</td>\n",
       "      <td>\\n        North Jamieview, AP\\n</td>\n",
       "      <td>2021-04-08</td>\n",
       "    </tr>\n",
       "  </tbody>\n",
       "</table>\n",
       "</div>"
      ],
      "text/plain": [
       "                 Job Title                     Company  \\\n",
       "0  Senior Python Developer    Payne, Roberts and Davis   \n",
       "1          Energy engineer            Vasquez-Davidson   \n",
       "2          Legal executive  Jackson, Chambers and Levy   \n",
       "3   Fitness centre manager              Savage-Bradley   \n",
       "4          Product manager                 Ramirez Inc   \n",
       "\n",
       "                                 Location        Date  \n",
       "0       \\n        Stewartbury, AA\\n        2021-04-08  \n",
       "1  \\n        Christopherville, AA\\n        2021-04-08  \n",
       "2   \\n        Port Ericaburgh, AA\\n        2021-04-08  \n",
       "3     \\n        East Seanview, AP\\n        2021-04-08  \n",
       "4   \\n        North Jamieview, AP\\n        2021-04-08  "
      ]
     },
     "execution_count": 96,
     "metadata": {},
     "output_type": "execute_result"
    }
   ],
   "source": [
    "source = requests.get(url)\n",
    "soup = BeautifulSoup(source.content, 'html.parser')  # extracting the html document\n",
    "\n",
    "jobs = soup.find_all('div', class_='column is-half')  # extracting data\n",
    "\n",
    "# Initializing empty lists to store job details\n",
    "jobtitles = []\n",
    "companies = []\n",
    "locations = []\n",
    "dates = []\n",
    "\n",
    "# Using a loop to get the details of each feature\n",
    "for job in jobs:\n",
    "    jobtitle = job.find('h2', class_='title is-5').get_text()\n",
    "    company = job.find('h3', class_='subtitle is-6 company').get_text()\n",
    "    location = job.find('p', class_='location').get_text()\n",
    "    date = job.find('time', datetime=\"2021-04-08\").get_text()\n",
    "    \n",
    "    # Appending each detail to the corresponding list\n",
    "    jobtitles.append(jobtitle)\n",
    "    companies.append(company)\n",
    "    locations.append(location)\n",
    "    dates.append(date)\n",
    "\n",
    "# Creating a DataFrame after collecting all job details\n",
    "df = pd.DataFrame({\n",
    "    \"Job Title\": jobtitles,\n",
    "    \"Company\": companies,\n",
    "    \"Location\": locations,\n",
    "    \"Date\": dates\n",
    "})\n",
    "\n",
    "df.head()\n"
   ]
  },
  {
   "cell_type": "markdown",
   "id": "c62708f3-2971-4908-9395-5f700322e219",
   "metadata": {},
   "source": [
    "# Data cleaning"
   ]
  },
  {
   "cell_type": "markdown",
   "id": "1c197513-7fcb-42db-b1c0-251537f53e27",
   "metadata": {},
   "source": [
    "Now that I have my data in  a data frame I am going to do some data cleaning so that the data can be ready for exploratory data analysis"
   ]
  },
  {
   "cell_type": "code",
   "execution_count": 125,
   "id": "d4abf48c-88ba-40cc-91d2-e3046605af99",
   "metadata": {},
   "outputs": [
    {
     "data": {
      "text/plain": [
       "(100, 4)"
      ]
     },
     "execution_count": 125,
     "metadata": {},
     "output_type": "execute_result"
    }
   ],
   "source": [
    "df.shape"
   ]
  },
  {
   "cell_type": "code",
   "execution_count": 117,
   "id": "e04cbe10-d05c-4d83-aa2a-4c8fe81f1235",
   "metadata": {},
   "outputs": [
    {
     "data": {
      "text/plain": [
       "0                 Stewartbury\n",
       "1            Christopherville\n",
       "2             Port Ericaburgh\n",
       "3               East Seanview\n",
       "4             North Jamieview\n",
       "Name: Location, dtype: object"
      ]
     },
     "execution_count": 117,
     "metadata": {},
     "output_type": "execute_result"
    }
   ],
   "source": [
    "#removing speacial characters and other unnecessary letters from the Location column\n",
    "df['Location'] = df['Location'].str.replace('\\n', \"\").str.split(',', expand = True)[0]\n",
    "df['Location'].head()"
   ]
  },
  {
   "cell_type": "code",
   "execution_count": 119,
   "id": "19de8693-7845-4e97-af0b-8c7d58947f4e",
   "metadata": {},
   "outputs": [
    {
     "data": {
      "text/html": [
       "<div>\n",
       "<style scoped>\n",
       "    .dataframe tbody tr th:only-of-type {\n",
       "        vertical-align: middle;\n",
       "    }\n",
       "\n",
       "    .dataframe tbody tr th {\n",
       "        vertical-align: top;\n",
       "    }\n",
       "\n",
       "    .dataframe thead th {\n",
       "        text-align: right;\n",
       "    }\n",
       "</style>\n",
       "<table border=\"1\" class=\"dataframe\">\n",
       "  <thead>\n",
       "    <tr style=\"text-align: right;\">\n",
       "      <th></th>\n",
       "      <th>Job Title</th>\n",
       "      <th>Company</th>\n",
       "      <th>Location</th>\n",
       "      <th>Date</th>\n",
       "    </tr>\n",
       "  </thead>\n",
       "  <tbody>\n",
       "    <tr>\n",
       "      <th>0</th>\n",
       "      <td>Senior Python Developer</td>\n",
       "      <td>Payne, Roberts and Davis</td>\n",
       "      <td>Stewartbury</td>\n",
       "      <td>2021-04-08</td>\n",
       "    </tr>\n",
       "    <tr>\n",
       "      <th>1</th>\n",
       "      <td>Energy engineer</td>\n",
       "      <td>Vasquez-Davidson</td>\n",
       "      <td>Christopherville</td>\n",
       "      <td>2021-04-08</td>\n",
       "    </tr>\n",
       "    <tr>\n",
       "      <th>2</th>\n",
       "      <td>Legal executive</td>\n",
       "      <td>Jackson, Chambers and Levy</td>\n",
       "      <td>Port Ericaburgh</td>\n",
       "      <td>2021-04-08</td>\n",
       "    </tr>\n",
       "    <tr>\n",
       "      <th>3</th>\n",
       "      <td>Fitness centre manager</td>\n",
       "      <td>Savage-Bradley</td>\n",
       "      <td>East Seanview</td>\n",
       "      <td>2021-04-08</td>\n",
       "    </tr>\n",
       "    <tr>\n",
       "      <th>4</th>\n",
       "      <td>Product manager</td>\n",
       "      <td>Ramirez Inc</td>\n",
       "      <td>North Jamieview</td>\n",
       "      <td>2021-04-08</td>\n",
       "    </tr>\n",
       "  </tbody>\n",
       "</table>\n",
       "</div>"
      ],
      "text/plain": [
       "                 Job Title                     Company  \\\n",
       "0  Senior Python Developer    Payne, Roberts and Davis   \n",
       "1          Energy engineer            Vasquez-Davidson   \n",
       "2          Legal executive  Jackson, Chambers and Levy   \n",
       "3   Fitness centre manager              Savage-Bradley   \n",
       "4          Product manager                 Ramirez Inc   \n",
       "\n",
       "                   Location        Date  \n",
       "0               Stewartbury  2021-04-08  \n",
       "1          Christopherville  2021-04-08  \n",
       "2           Port Ericaburgh  2021-04-08  \n",
       "3             East Seanview  2021-04-08  \n",
       "4           North Jamieview  2021-04-08  "
      ]
     },
     "execution_count": 119,
     "metadata": {},
     "output_type": "execute_result"
    }
   ],
   "source": [
    "df.head()"
   ]
  },
  {
   "cell_type": "code",
   "execution_count": 121,
   "id": "f4c49efb-ed62-465d-8d71-d9faa05b472a",
   "metadata": {},
   "outputs": [
    {
     "name": "stdout",
     "output_type": "stream",
     "text": [
      "<class 'pandas.core.frame.DataFrame'>\n",
      "RangeIndex: 100 entries, 0 to 99\n",
      "Data columns (total 4 columns):\n",
      " #   Column     Non-Null Count  Dtype \n",
      "---  ------     --------------  ----- \n",
      " 0   Job Title  100 non-null    object\n",
      " 1   Company    100 non-null    object\n",
      " 2   Location   100 non-null    object\n",
      " 3   Date       100 non-null    object\n",
      "dtypes: object(4)\n",
      "memory usage: 3.3+ KB\n"
     ]
    }
   ],
   "source": [
    "df.info()"
   ]
  },
  {
   "cell_type": "markdown",
   "id": "995f2e27-c2b9-4a02-82b1-a81186760382",
   "metadata": {},
   "source": [
    "The dataset has no null values "
   ]
  },
  {
   "cell_type": "code",
   "execution_count": 123,
   "id": "c20c3b67-30da-4b58-8870-11054d1582ae",
   "metadata": {},
   "outputs": [
    {
     "data": {
      "text/plain": [
       "0   2021-04-08\n",
       "1   2021-04-08\n",
       "Name: Date, dtype: datetime64[ns]"
      ]
     },
     "execution_count": 123,
     "metadata": {},
     "output_type": "execute_result"
    }
   ],
   "source": [
    "#changing the datatype for the Date column\n",
    "import datetime\n",
    "df['Date'] = pd.to_datetime(df['Date'])\n",
    "df['Date'].head(2)"
   ]
  },
  {
   "cell_type": "code",
   "execution_count": 130,
   "id": "a09ecc13-97ae-43d4-b000-9ae5f4f750b1",
   "metadata": {},
   "outputs": [
    {
     "data": {
      "text/html": [
       "<div>\n",
       "<style scoped>\n",
       "    .dataframe tbody tr th:only-of-type {\n",
       "        vertical-align: middle;\n",
       "    }\n",
       "\n",
       "    .dataframe tbody tr th {\n",
       "        vertical-align: top;\n",
       "    }\n",
       "\n",
       "    .dataframe thead th {\n",
       "        text-align: right;\n",
       "    }\n",
       "</style>\n",
       "<table border=\"1\" class=\"dataframe\">\n",
       "  <thead>\n",
       "    <tr style=\"text-align: right;\">\n",
       "      <th></th>\n",
       "      <th>Job Title</th>\n",
       "      <th>Company</th>\n",
       "      <th>Location</th>\n",
       "      <th>Date</th>\n",
       "    </tr>\n",
       "  </thead>\n",
       "  <tbody>\n",
       "    <tr>\n",
       "      <th>95</th>\n",
       "      <td>Museum/gallery exhibitions officer</td>\n",
       "      <td>Nguyen, Yoder and Petty</td>\n",
       "      <td>Lake Abigail</td>\n",
       "      <td>2021-04-08</td>\n",
       "    </tr>\n",
       "    <tr>\n",
       "      <th>96</th>\n",
       "      <td>Radiographer, diagnostic</td>\n",
       "      <td>Holder LLC</td>\n",
       "      <td>Jacobshire</td>\n",
       "      <td>2021-04-08</td>\n",
       "    </tr>\n",
       "    <tr>\n",
       "      <th>97</th>\n",
       "      <td>Database administrator</td>\n",
       "      <td>Yates-Ferguson</td>\n",
       "      <td>Port Susan</td>\n",
       "      <td>2021-04-08</td>\n",
       "    </tr>\n",
       "    <tr>\n",
       "      <th>98</th>\n",
       "      <td>Furniture designer</td>\n",
       "      <td>Ortega-Lawrence</td>\n",
       "      <td>North Tiffany</td>\n",
       "      <td>2021-04-08</td>\n",
       "    </tr>\n",
       "    <tr>\n",
       "      <th>99</th>\n",
       "      <td>Ship broker</td>\n",
       "      <td>Fuentes, Walls and Castro</td>\n",
       "      <td>Michelleville</td>\n",
       "      <td>2021-04-08</td>\n",
       "    </tr>\n",
       "  </tbody>\n",
       "</table>\n",
       "</div>"
      ],
      "text/plain": [
       "                             Job Title                    Company  \\\n",
       "95  Museum/gallery exhibitions officer    Nguyen, Yoder and Petty   \n",
       "96            Radiographer, diagnostic                 Holder LLC   \n",
       "97              Database administrator             Yates-Ferguson   \n",
       "98                  Furniture designer            Ortega-Lawrence   \n",
       "99                         Ship broker  Fuentes, Walls and Castro   \n",
       "\n",
       "                 Location       Date  \n",
       "95           Lake Abigail 2021-04-08  \n",
       "96             Jacobshire 2021-04-08  \n",
       "97             Port Susan 2021-04-08  \n",
       "98          North Tiffany 2021-04-08  \n",
       "99          Michelleville 2021-04-08  "
      ]
     },
     "execution_count": 130,
     "metadata": {},
     "output_type": "execute_result"
    }
   ],
   "source": [
    "df.tail()"
   ]
  },
  {
   "cell_type": "markdown",
   "id": "1989d092-e9db-44f5-9a94-3b1cf41724f6",
   "metadata": {},
   "source": [
    "The dataset is now clean. Thank you."
   ]
  },
  {
   "cell_type": "code",
   "execution_count": null,
   "id": "cce4a6b2-e852-40be-a6a7-143ccc244e2e",
   "metadata": {},
   "outputs": [],
   "source": []
  }
 ],
 "metadata": {
  "kernelspec": {
   "display_name": "Python 3 (ipykernel)",
   "language": "python",
   "name": "python3"
  },
  "language_info": {
   "codemirror_mode": {
    "name": "ipython",
    "version": 3
   },
   "file_extension": ".py",
   "mimetype": "text/x-python",
   "name": "python",
   "nbconvert_exporter": "python",
   "pygments_lexer": "ipython3",
   "version": "3.11.7"
  }
 },
 "nbformat": 4,
 "nbformat_minor": 5
}
